{
 "cells": [
  {
   "cell_type": "code",
   "execution_count": 19,
   "id": "dd0af59e",
   "metadata": {},
   "outputs": [],
   "source": [
    "import numpy as np\n",
    "import scipy.optimize as opt\n"
   ]
  },
  {
   "cell_type": "code",
   "execution_count": 4,
   "id": "9cd716a1",
   "metadata": {},
   "outputs": [],
   "source": [
    "# Given Data\n",
    "S_t0 = np.array([1.755, 1.17, 0.975])  # Asset prices at time t0\n",
    "A = np.array([[1, 0.5, 1], \n",
    "              [2, 1.75, 1], \n",
    "              [3, 1.5, 1]])  # Price matrix at time T\n",
    "p_real = np.array([0.30, 0.15, 0.55])  # Real-world probabilities"
   ]
  },
  {
   "cell_type": "code",
   "execution_count": 5,
   "id": "48d6daf7",
   "metadata": {},
   "outputs": [
    {
     "name": "stdout",
     "output_type": "stream",
     "text": [
      "Market is Complete: True\n"
     ]
    }
   ],
   "source": [
    "# Step 1: Check Market Completeness (A must be square and full rank)\n",
    "rank_A = np.linalg.matrix_rank(A)\n",
    "market_complete = (rank_A == A.shape[1])  # True if rank(A) = number of assets\\\n",
    "print(f\"Market is Complete: {market_complete}\")"
   ]
  },
  {
   "cell_type": "code",
   "execution_count": 18,
   "id": "bc8670b7",
   "metadata": {},
   "outputs": [
    {
     "data": {
      "text/plain": [
       "array([[-0.16666667, -0.66666667,  0.83333333],\n",
       "       [-0.66666667,  1.33333333, -0.66666667],\n",
       "       [ 1.5       ,  0.        , -0.5       ]])"
      ]
     },
     "execution_count": 18,
     "metadata": {},
     "output_type": "execute_result"
    }
   ],
   "source": [
    "Inv_A = np.linalg.inv(A)\n",
    "Inv_A\n"
   ]
  },
  {
   "cell_type": "code",
   "execution_count": 13,
   "id": "0bdf9d5a",
   "metadata": {},
   "outputs": [
    {
     "data": {
      "text/plain": [
       "array([[-0.299988, -0.799968,  0.8333  ],\n",
       "       [-1.199952,  1.599936, -0.66664 ],\n",
       "       [ 2.699892,  0.      , -0.49998 ]])"
      ]
     },
     "execution_count": 13,
     "metadata": {},
     "output_type": "execute_result"
    }
   ],
   "source": [
    "qt= 1.0256 * S_t0 * Inv_A\n",
    "qt"
   ]
  },
  {
   "cell_type": "code",
   "execution_count": 11,
   "id": "0b7fdf8d",
   "metadata": {},
   "outputs": [
    {
     "name": "stdout",
     "output_type": "stream",
     "text": [
      "Market is Arbitrage-Free: True\n",
      "Risk-Neutral Probabilities (Q): [0.39  0.39  0.195]\n"
     ]
    }
   ],
   "source": [
    "# Step 2: Compute Risk-Neutral Probabilities (Q)\n",
    "# Solve for Q such that S_t0 = Q^T * A / (1 + risk-free rate)\n",
    "# Assume risk-free rate i = 0 for simplicity\n",
    "\n",
    "q = np.linalg.solve(A.T, S_t0)  # Solving A^T * q = S_t0\n",
    "q_positive = np.all(q > 0)  # Market is arbitrage-free if all Q values are positive\n",
    "\n",
    "print(f\"Market is Arbitrage-Free: {q_positive}\")\n",
    "print(f\"Risk-Neutral Probabilities (Q): {np.round(q,4)}\")"
   ]
  },
  {
   "cell_type": "code",
   "execution_count": 8,
   "id": "a0c638c5",
   "metadata": {},
   "outputs": [
    {
     "name": "stdout",
     "output_type": "stream",
     "text": [
      "Market is Arbitrage-Free: True\n",
      "Risk-Neutral Probabilities (Q): [0.39  0.39  0.195]\n",
      "Optimal Wealth in Each Scenario (W_T): [ 41.48579585  17.91441138 137.60984114]\n",
      "Optimal Portfolio Weights (α): [ 95.81762739 -95.51120949  -6.5762268 ]\n"
     ]
    }
   ],
   "source": [
    "# Step 3: Solve for the Optimal Portfolio (Utility Maximization)\n",
    "W_0 = 50  # Initial Wealth\n",
    "# Step 2: Define the Utility Maximization Problem\n",
    "utility_function = lambda W: -np.sum(p_real * np.log(4 * W + 1))  # Expected utility to maximize\n",
    "\n",
    "# Constraint: Discounted martingale-weighted wealth equals initial wealth\n",
    "constraint = {'type': 'eq', 'fun': lambda W: np.sum(q * W) - W_0}\n",
    "\n",
    "# Bounds: Wealth in each scenario must be positive\n",
    "bounds = [(0, None) for _ in range(A.shape[0])]\n",
    "\n",
    "# Initial Guess: Equally distributed wealth\n",
    "W_init = np.ones(A.shape[0]) * (W_0 / A.shape[0])\n",
    "\n",
    "# Solve Optimization Problem\n",
    "result = opt.minimize(utility_function, W_init, constraints=constraint, bounds=bounds)\n",
    "W_T_optimal = result.x  # Optimal wealth in each scenario\n",
    "\n",
    "# Step 3: Compute Portfolio Weights α = A^(-1) * W_T\n",
    "alpha_optimal = np.linalg.solve(A, W_T_optimal)\n",
    "\n",
    "# Display Results\n",
    "print(f\"Market is Arbitrage-Free: {q_positive}\")\n",
    "print(f\"Risk-Neutral Probabilities (Q): {q}\")\n",
    "print(f\"Optimal Wealth in Each Scenario (W_T): {W_T_optimal}\")\n",
    "print(f\"Optimal Portfolio Weights (α): {alpha_optimal}\")"
   ]
  }
 ],
 "metadata": {
  "kernelspec": {
   "display_name": "Python 3 (ipykernel)",
   "language": "python",
   "name": "python3"
  },
  "language_info": {
   "codemirror_mode": {
    "name": "ipython",
    "version": 3
   },
   "file_extension": ".py",
   "mimetype": "text/x-python",
   "name": "python",
   "nbconvert_exporter": "python",
   "pygments_lexer": "ipython3",
   "version": "3.11.5"
  }
 },
 "nbformat": 4,
 "nbformat_minor": 5
}
